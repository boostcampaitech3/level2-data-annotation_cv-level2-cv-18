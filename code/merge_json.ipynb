{
 "cells": [
  {
   "cell_type": "code",
   "execution_count": 1,
   "metadata": {},
   "outputs": [],
   "source": [
    "import pandas as pd\n",
    "import json\n",
    "import os"
   ]
  },
  {
   "cell_type": "code",
   "execution_count": 7,
   "metadata": {},
   "outputs": [],
   "source": [
    "import pandas as pd\n",
    "import json\n",
    "import os\n",
    "# file1_dir = '../input/data/ICDAR17_Korean/ufo/train.json'\n",
    "# file2_dir = '../input/data/Upstage/ufo/new.json'\n",
    "\n",
    "file1_dir = '../input/data/ICDAR19/ufo/train.json'\n",
    "file2_dir = '../input/data/Upstage/ufo/final.json'\n",
    "save_dir = '../input/data/ICDAR19/ufo/'\n",
    "\n",
    "\n",
    "with open(file1_dir) as t:\n",
    "    json1 = json.load(t)\n",
    "\n",
    "with open(file2_dir) as t:\n",
    "    json2 = json.load(t)\n",
    "\n",
    "\n",
    "files = [json1,json2]\n",
    "def merge_file(files):\n",
    "    total_train = dict(images=dict())\n",
    "\n",
    "    for f in files:\n",
    "        images = f['images']\n",
    "        for img in images:\n",
    "            word_len = len(images[img]['words'])\n",
    "            for word in images[img]['words']:\n",
    "                if len(images[img]['words'][word]['points']) > 4:\n",
    "                    word_len -= 1\n",
    "            if word_len <= 0:\n",
    "                    continue\n",
    "            total_train['images'][img] = images[img]\n",
    "    \n",
    "    return total_train\n",
    "\n",
    "train = merge_file(files)\n",
    "\n",
    "\n",
    "if not os.path.exists(save_dir):\n",
    "        os.makedirs(save_dir)\n",
    "\n",
    "with open(os.path.join(save_dir,'train.json'), 'w') as f:\n",
    "    json.dump(train,f,indent=4)"
   ]
  }
 ],
 "metadata": {
  "interpreter": {
   "hash": "31f2aee4e71d21fbe5cf8b01ff0e069b9275f58929596ceb00d14d90e3e16cd6"
  },
  "kernelspec": {
   "display_name": "Python 3.6.9 64-bit",
   "language": "python",
   "name": "python3"
  },
  "language_info": {
   "codemirror_mode": {
    "name": "ipython",
    "version": 3
   },
   "file_extension": ".py",
   "mimetype": "text/x-python",
   "name": "python",
   "nbconvert_exporter": "python",
   "pygments_lexer": "ipython3",
   "version": "3.8.5"
  },
  "orig_nbformat": 4
 },
 "nbformat": 4,
 "nbformat_minor": 2
}
