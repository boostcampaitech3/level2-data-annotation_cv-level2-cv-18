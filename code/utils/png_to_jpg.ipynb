{
 "cells": [
  {
   "cell_type": "code",
   "execution_count": null,
   "metadata": {},
   "outputs": [],
   "source": [
    "from PIL import Image\n",
    "import json\n",
    "import os\n",
    "import os.path as osp\n",
    "from glob import glob\n",
    "from PIL import Image\n",
    "import shutil\n",
    "import numpy as np"
   ]
  },
  {
   "cell_type": "code",
   "execution_count": null,
   "metadata": {},
   "outputs": [],
   "source": [
    "\n",
    "for image in os.listdir('/opt/ml/input/data/ICDAR17_Korean/images'):\n",
    "    image_name = image\n",
    "    image = '/opt/ml/input/data/ICDAR17_Korean/images/' + image\n",
    "    if image != '/opt/ml/input/data/ICDAR17_Korean/images/.ipynb_checkpoints':\n",
    "        im = Image.open(image)\n",
    "        # If is png image\n",
    "        if im.format == 'PNG':\n",
    "            # and is not RGBA\n",
    "            if im.mode != 'RGBA':\n",
    "                image_name = image_name.split('.')\n",
    "                print(image)\n",
    "                im.convert(\"RGBA\").save(f\"/opt/ml/input/data/ICDAR17_Korean/images/{image_name[0]}.png\")"
   ]
  }
 ],
 "metadata": {
  "language_info": {
   "name": "python"
  },
  "orig_nbformat": 4
 },
 "nbformat": 4,
 "nbformat_minor": 2
}
