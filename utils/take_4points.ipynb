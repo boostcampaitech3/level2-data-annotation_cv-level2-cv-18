{
 "cells": [
  {
   "cell_type": "code",
   "execution_count": 1,
   "metadata": {},
   "outputs": [],
   "source": [
    "import json\n",
    "import os\n",
    "import os.path as osp\n",
    "from glob import glob\n",
    "from PIL import Image\n",
    "import shutil\n",
    "import numpy as np"
   ]
  },
  {
   "cell_type": "code",
   "execution_count": 2,
   "metadata": {},
   "outputs": [],
   "source": [
    "json_path1 = '/opt/ml/input/data/ICDAR17_Korean/ufo/final1.json'\n",
    "with open(json_path1, \"r\") as json_file:\n",
    "    json1 = json.load(json_file)\n",
    "# json_path2 = '/opt/ml/input/data/ICDAR17_Korean/ufo/train_with19_allill.json'\n",
    "# with open(json_path2, \"r\") as json_file:\n",
    "#     json2 = json.load(json_file)"
   ]
  },
  {
   "cell_type": "code",
   "execution_count": 3,
   "metadata": {},
   "outputs": [
    {
     "name": "stdout",
     "output_type": "stream",
     "text": [
      "12452 8090\n"
     ]
    }
   ],
   "source": [
    "files = [json1]\n",
    "def merge_file(files):\n",
    "    total_train = dict(images=dict())\n",
    "\n",
    "    for f in files:\n",
    "        images = f['images']\n",
    "        for img in images:\n",
    "            img_pass=False\n",
    "            word_len = len(images[img]['words'])\n",
    "            if img[0:4]=='img_':\n",
    "                img_pass=True\n",
    "                for word in images[img]['words']:\n",
    "                    if 'ko' in images[img]['words'][word]['language']:\n",
    "                        img_pass=False\n",
    "                        break\n",
    "            if img_pass:\n",
    "                continue\n",
    "            total_train['images'][img] = images[img]\n",
    "    \n",
    "    return total_train\n",
    "\n",
    "\n",
    "result = merge_file(files)\n",
    "print(len(json1['images']),len(result['images']))"
   ]
  },
  {
   "cell_type": "code",
   "execution_count": 6,
   "metadata": {},
   "outputs": [],
   "source": [
    "with open('/opt/ml/input/data/ICDAR17_Korean/ufo/real_final.json', 'w') as f:\n",
    "        json.dump(result, f, indent=4)"
   ]
  },
  {
   "cell_type": "code",
   "execution_count": 3,
   "metadata": {},
   "outputs": [
    {
     "name": "stdout",
     "output_type": "stream",
     "text": [
      "/opt/ml/input/data/ICDAR17_Korean/images/img_1199.png\n",
      "/opt/ml/input/data/ICDAR17_Korean/images/img_1200.png\n",
      "/opt/ml/input/data/ICDAR17_Korean/images/img_1193.png\n",
      "/opt/ml/input/data/ICDAR17_Korean/images/img_1194.png\n",
      "/opt/ml/input/data/ICDAR17_Korean/images/tr_img_01101.png\n",
      "/opt/ml/input/data/ICDAR17_Korean/images/tr_img_01626.png\n",
      "/opt/ml/input/data/ICDAR17_Korean/images/img_1201.png\n",
      "/opt/ml/input/data/ICDAR17_Korean/images/tr_img_01346.png\n",
      "/opt/ml/input/data/ICDAR17_Korean/images/tr_img_01016.png\n",
      "/opt/ml/input/data/ICDAR17_Korean/images/tr_img_01746.png\n",
      "/opt/ml/input/data/ICDAR17_Korean/images/tr_img_01666.png\n",
      "/opt/ml/input/data/ICDAR17_Korean/images/tr_img_01754.png\n",
      "/opt/ml/input/data/ICDAR17_Korean/images/tr_img_01196.png\n",
      "/opt/ml/input/data/ICDAR17_Korean/images/img_1192.png\n",
      "/opt/ml/input/data/ICDAR17_Korean/images/tr_img_01213.png\n",
      "/opt/ml/input/data/ICDAR17_Korean/images/img_1195.png\n",
      "/opt/ml/input/data/ICDAR17_Korean/images/img_1204.png\n",
      "/opt/ml/input/data/ICDAR17_Korean/images/img_1196.png\n"
     ]
    }
   ],
   "source": [
    "from PIL import Image\n",
    "for image in os.listdir('/opt/ml/input/data/ICDAR17_Korean/images'):\n",
    "    image_name = image\n",
    "    image = '/opt/ml/input/data/ICDAR17_Korean/images/' + image\n",
    "    if image != '/opt/ml/input/data/ICDAR17_Korean/images/.ipynb_checkpoints':\n",
    "        im = Image.open(image)\n",
    "        # If is png image\n",
    "        if im.format == 'PNG':\n",
    "            # and is not RGBA\n",
    "            if im.mode != 'RGBA':\n",
    "                image_name = image_name.split('.')\n",
    "                print(image)\n",
    "                im.convert(\"RGBA\").save(f\"/opt/ml/input/data/ICDAR17_Korean/images/{image_name[0]}.png\")"
   ]
  },
  {
   "cell_type": "code",
   "execution_count": null,
   "metadata": {},
   "outputs": [],
   "source": []
  }
 ],
 "metadata": {
  "interpreter": {
   "hash": "d4d1e4263499bec80672ea0156c357c1ee493ec2b1c70f0acce89fc37c4a6abe"
  },
  "kernelspec": {
   "display_name": "Python 3.8.5 ('base')",
   "language": "python",
   "name": "python3"
  },
  "language_info": {
   "codemirror_mode": {
    "name": "ipython",
    "version": 3
   },
   "file_extension": ".py",
   "mimetype": "text/x-python",
   "name": "python",
   "nbconvert_exporter": "python",
   "pygments_lexer": "ipython3",
   "version": "3.8.5"
  },
  "orig_nbformat": 4
 },
 "nbformat": 4,
 "nbformat_minor": 2
}
