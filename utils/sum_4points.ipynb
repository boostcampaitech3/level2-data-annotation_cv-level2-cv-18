{
 "cells": [
  {
   "cell_type": "code",
   "execution_count": 2,
   "metadata": {},
   "outputs": [],
   "source": [
    "import json\n",
    "import os\n",
    "import os.path as osp\n",
    "from glob import glob\n",
    "from PIL import Image\n",
    "\n",
    "import numpy as np\n",
    "from tqdm import tqdm"
   ]
  },
  {
   "cell_type": "code",
   "execution_count": 3,
   "metadata": {},
   "outputs": [],
   "source": [
    "json_path1 = '/opt/ml/input/data/ICDAR17_Korean/ufo/train.json'\n",
    "with open(json_path1, \"r\") as json_file:\n",
    "    json1 = json.load(json_file)\n",
    "json_path2 = '/opt/ml/input/data/ICDAR17_Korean/ufo/fixed.json'\n",
    "with open(json_path2, \"r\") as json_file:\n",
    "    json2 = json.load(json_file)"
   ]
  },
  {
   "cell_type": "code",
   "execution_count": 5,
   "metadata": {},
   "outputs": [],
   "source": [
    "files = [json1,json2]\n",
    "def merge_file(files):\n",
    "    total_train = dict(images=dict())\n",
    "\n",
    "    for f in files:\n",
    "        images = f['images']\n",
    "        for img in images:\n",
    "            word_len = len(images[img]['words'])\n",
    "            for word in images[img]['words']:\n",
    "                if len(images[img]['words'][word]['points']) > 4:\n",
    "                    word_len -= 1\n",
    "            if word_len <= 0:\n",
    "                    continue\n",
    "            total_train['images'][img] = images[img]\n",
    "    \n",
    "    return total_train\n",
    "\n",
    "result = merge_file(files)\n",
    "\n",
    "with open('/opt/ml/input/data/ICDAR17_Korean/ufo/train_fixed1.json', 'w') as f:\n",
    "        json.dump(result, f, indent=4)"
   ]
  },
  {
   "cell_type": "code",
   "execution_count": null,
   "metadata": {},
   "outputs": [],
   "source": []
  }
 ],
 "metadata": {
  "interpreter": {
   "hash": "d4d1e4263499bec80672ea0156c357c1ee493ec2b1c70f0acce89fc37c4a6abe"
  },
  "kernelspec": {
   "display_name": "Python 3.8.5 ('base')",
   "language": "python",
   "name": "python3"
  },
  "language_info": {
   "codemirror_mode": {
    "name": "ipython",
    "version": 3
   },
   "file_extension": ".py",
   "mimetype": "text/x-python",
   "name": "python",
   "nbconvert_exporter": "python",
   "pygments_lexer": "ipython3",
   "version": "3.8.5"
  },
  "orig_nbformat": 4
 },
 "nbformat": 4,
 "nbformat_minor": 2
}
