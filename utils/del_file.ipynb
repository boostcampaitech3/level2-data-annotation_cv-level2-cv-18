{
 "cells": [
  {
   "cell_type": "code",
   "execution_count": 1,
   "metadata": {},
   "outputs": [],
   "source": [
    "import json\n",
    "import os\n",
    "import os.path as osp\n",
    "from glob import glob\n",
    "from PIL import Image"
   ]
  },
  {
   "cell_type": "code",
   "execution_count": 3,
   "metadata": {},
   "outputs": [],
   "source": [
    "import os.path as osp\n",
    "from glob import glob\n",
    "SRC_DATASET_DIR = '/opt/ml/input/data/ICDAR17_MLT'\n",
    "\n",
    "# image 파일 주소 설정\n",
    "image_paths = {x for x in glob(osp.join(SRC_DATASET_DIR, 'raw/ch8_training_gt/*'))}\n",
    "# gt 파일 주소 설정\n",
    "label_paths = set(glob(osp.join(SRC_DATASET_DIR, 'gt/*')))\n",
    "\n",
    "for image_path in image_paths:\n",
    "    os.remove(image_path)\n",
    "for label_path in label_paths:\n",
    "    os.remove(label_path)"
   ]
  },
  {
   "cell_type": "code",
   "execution_count": null,
   "metadata": {},
   "outputs": [],
   "source": []
  }
 ],
 "metadata": {
  "interpreter": {
   "hash": "d4d1e4263499bec80672ea0156c357c1ee493ec2b1c70f0acce89fc37c4a6abe"
  },
  "kernelspec": {
   "display_name": "Python 3.8.5 ('base')",
   "language": "python",
   "name": "python3"
  },
  "language_info": {
   "codemirror_mode": {
    "name": "ipython",
    "version": 3
   },
   "file_extension": ".py",
   "mimetype": "text/x-python",
   "name": "python",
   "nbconvert_exporter": "python",
   "pygments_lexer": "ipython3",
   "version": "3.8.5"
  },
  "orig_nbformat": 4
 },
 "nbformat": 4,
 "nbformat_minor": 2
}
